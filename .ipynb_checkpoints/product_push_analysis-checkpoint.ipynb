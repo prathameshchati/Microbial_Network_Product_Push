{
 "cells": [
  {
   "cell_type": "markdown",
   "id": "dc53d6a6",
   "metadata": {},
   "source": [
    "### Description\n",
    "\n",
    "__Describe what was mentioned in the proposal.__\n",
    "\n",
    " - Significance test between the number of shared reactants and products a reaction has and the essentiality. The two groups are repressented by essentiality while the amount of shared products are presented by counting methods."
   ]
  },
  {
   "cell_type": "markdown",
   "id": "59a84b07",
   "metadata": {},
   "source": [
    "### Setup"
   ]
  },
  {
   "cell_type": "code",
   "execution_count": 1,
   "id": "f6b3c720",
   "metadata": {},
   "outputs": [
    {
     "data": {
      "text/html": [
       "<style>.container { width:90% !important; }</style>"
      ],
      "text/plain": [
       "<IPython.core.display.HTML object>"
      ]
     },
     "metadata": {},
     "output_type": "display_data"
    }
   ],
   "source": [
    "from IPython.display import display, HTML\n",
    "display(HTML(\"<style>.container { width:90% !important; }</style>\"))"
   ]
  },
  {
   "cell_type": "code",
   "execution_count": 51,
   "id": "76741d5e",
   "metadata": {},
   "outputs": [],
   "source": [
    "import pandas as pd\n",
    "pd.options.mode.chained_assignment = None  # default='warn'\n",
    "pd.set_option('display.max_rows', 100)\n",
    "pd.set_option('display.max_columns', 100)\n",
    "# pd.set_option('display.width', 1000)\n",
    "import numpy as np\n",
    "import networkx as nx\n",
    "import matplotlib.pyplot as plt\n",
    "import tqdm\n",
    "import cobra\n",
    "from cobra.io import read_sbml_model\n",
    "from pathlib import Path\n",
    "from collections import Counter\n",
    "import os\n",
    "import seaborn as sns\n",
    "import numpy as np\n",
    "from scipy import stats\n",
    "from sklearn.linear_model import LinearRegression\n",
    "from scipy.stats import linregress\n",
    "from scipy.stats import spearmanr\n",
    "from sklearn import preprocessing\n",
    "import scipy.optimize\n",
    "from scipy.stats import pearsonr, spearmanr\n",
    "from scipy.stats import chi2_contingency, fisher_exact, mannwhitneyu, median_test, chisquare\n",
    "import warnings\n",
    "warnings.simplefilter(action='ignore', category=FutureWarning)"
   ]
  },
  {
   "cell_type": "markdown",
   "id": "5b121b82",
   "metadata": {},
   "source": [
    "### Functions"
   ]
  },
  {
   "cell_type": "markdown",
   "id": "e8c1721c",
   "metadata": {},
   "source": [
    "#### Centrality functions"
   ]
  },
  {
   "cell_type": "code",
   "execution_count": 61,
   "id": "89756b76",
   "metadata": {},
   "outputs": [],
   "source": [
    "def get_betweenness_centrality_log10(model_graph_df):\n",
    "    \n",
    "    # calculate betweenness centrality\n",
    "    model_betweenness_centrality = nx.betweenness_centrality(model_graph_df, weight='weight', normalized=False)\n",
    "    \n",
    "    # strip whitespace from keys and log-transform the values\n",
    "    log10_betweenness_centrality = {key.strip(): np.log10(value + 1) for key, value in model_betweenness_centrality.items()}\n",
    "    return log10_betweenness_centrality\n",
    "\n",
    "def get_bridging_centrality_log10(model_graph_df):\n",
    "    \n",
    "    # calculate betweenness centrality\n",
    "    betweenness = nx.betweenness_centrality(model_graph_df, weight='weight', normalized=False)\n",
    "\n",
    "    # calculate the bridging coefficient for each node\n",
    "    bridging_coefficient = {}\n",
    "    for node in model_graph_df.nodes():\n",
    "        # for directed graphs, consider successors and predecessors\n",
    "        if model_graph_df.is_directed():\n",
    "            successors = list(model_graph_df.successors(node))\n",
    "            predecessors = list(model_graph_df.predecessors(node))\n",
    "            degree_sum = sum(model_graph_df.out_degree(successor) for successor in successors) + \\\n",
    "                         sum(model_graph_df.in_degree(predecessor) for predecessor in predecessors)\n",
    "        else:\n",
    "            # for undirected graphs, consider neighbors\n",
    "            neighbors = list(model_graph_df.neighbors(node))\n",
    "            degree_sum = sum(model_graph_df.degree(neighbor) for neighbor in neighbors)\n",
    "\n",
    "        bridging_coefficient[node] = 1 / degree_sum if degree_sum > 0 else 0\n",
    "\n",
    "    # calculate bridging centrality\n",
    "    bridging_centrality = {node: betweenness[node] * bridging_coefficient[node] for node in model_graph_df.nodes()}\n",
    "\n",
    "    # strip whitespace from keys and log-transform the values\n",
    "    log10_bridging_centrality = {key.strip(): np.log10(value + 1) for key, value in bridging_centrality.items()}\n",
    "    return log10_bridging_centrality\n",
    "\n",
    "def get_clustering_coefficient(model_graph_df):\n",
    "    model_clustering_coefficient = nx.clustering(model_graph_df)\n",
    "\n",
    "    # strip whitespace from keys and log-transform the values\n",
    "    clustering_coefficient = {key.strip(): value for key, value in model_clustering_coefficient.items()}\n",
    "    return clustering_coefficient\n",
    "\n",
    "def get_degree(model_graph_df, log=False, directional=False):\n",
    "    model_degree = dict(model_graph_df.degree())\n",
    "    model_degree = {key.strip(): value for key, value in model_degree.items()}\n",
    "    \n",
    "    if (directional):\n",
    "        c=0\n",
    "    \n",
    "    # strip whitespace from keys and log-transform the values\n",
    "    if (log):\n",
    "        model_degree = {key.strip(): np.log10(value + 1) for key, value in model_degree.items()}\n",
    "    return model_degree"
   ]
  },
  {
   "cell_type": "markdown",
   "id": "ae388bfc",
   "metadata": {},
   "source": [
    "#### Processing functions"
   ]
  },
  {
   "cell_type": "code",
   "execution_count": 62,
   "id": "cb642932",
   "metadata": {},
   "outputs": [],
   "source": [
    "def dict_isolate(dic, val):\n",
    "    match_keys=[]\n",
    "    for key, value in dic.items():\n",
    "        if (value==val):\n",
    "            match_keys.append(key)\n",
    "    return match_keys\n",
    "\n",
    "def df_isolate(df, col, val):\n",
    "    return df[df[col]==val]\n",
    "\n",
    "def log_columns(df, cols, base=2):\n",
    "    for col in cols:\n",
    "        if (base==2):\n",
    "            df[f\"log_{col}\"]=np.log(df[col]+1)\n",
    "        elif (base==10):\n",
    "            df[f\"log_{col}\"]=np.log10(df[col]+1)\n",
    "        else:\n",
    "            print(\"Choose valid base (2 or 10)\")\n",
    "    return df\n",
    "\n",
    "def normalize(data, lower, upper):\n",
    "    data_norm=[lower + (upper - lower) * x for x in data]\n",
    "    return data_norm\n",
    "\n",
    "def adj_columns(df, cols, prefix):\n",
    "    for col in cols:\n",
    "        d=np.array(df[col])\n",
    "        df[f\"{prefix}_{col}\"]=preprocessing.normalize([d]).tolist()[0]\n",
    "    return df\n",
    "\n",
    "def z_score(df, cols, prefix):\n",
    "    for col in cols:\n",
    "        d=np.array(df[col])\n",
    "        df[f\"{prefix}_{col}\"]=stats.zscore(d).tolist()\n",
    "    return df\n",
    "\n",
    "def scale(df, cols, lb=0, ub=1):\n",
    "    for col in cols:\n",
    "        df[f\"scale_{col}\"]=scale_list(list(df[col]), lb, ub)\n",
    "    return df\n",
    "\n",
    "def scale_number(unscaled, to_min, to_max, from_min, from_max):\n",
    "    return (to_max-to_min)*(unscaled-from_min)/(from_max-from_min)+to_min\n",
    "\n",
    "def scale_list(l, to_min, to_max):\n",
    "    return [scale_number(i, to_min, to_max, min(l), max(l)) for i in l]\n",
    "\n",
    "def replace_index(df, replace_pairs):\n",
    "    for r1, r2 in replace_pairs:\n",
    "        df.index=df.index.str.replace(r1,r2)\n",
    "    return df\n",
    "\n",
    "def replace_column(df, replace_pairs):\n",
    "    for r1, r2 in replace_pairs:\n",
    "        df.columns=df.columns.str.replace(r1,r2)\n",
    "    return df\n",
    "\n",
    "def sort_dict(d):\n",
    "    return {k: v for k, v in sorted(d.items(), key=lambda item: item[1])}\n",
    "\n",
    "def sorted_counter(data):\n",
    "    return sort_dict(Counter(data))\n",
    "\n",
    "def sharing_data_processing(data_df, base=2):\n",
    "    # format\n",
    "    data_df=pd.DataFrame.from_dict(data_df).T\n",
    "    # data_df.columns=[\"r\", \"p\", \"num_r\", \"num_p\", \"ess\"]\n",
    "    data_df.columns=[\"r\", \"p\", \"num_r\", \"num_p\", \"rev\", \"r_all\", \"p_all\", \"p_push\", \"ess\"]\n",
    "    # data_df.columns=[\"ess\", \"r\", \"p\"] # change column order based on above\n",
    "\n",
    "    # merge\n",
    "    data_df=pd.concat([data_df, cent_metrics_df], axis=1) # was degree_df\n",
    "    \n",
    "    # modify columns \n",
    "    mod_cols=[\"r\", \"p\", \"k_in\", \"k_out\", \"k\", \"r_all\", \"p_all\", \"p_push\"]\n",
    "    data_df[mod_cols]=data_df[mod_cols].astype(float)\n",
    "\n",
    "    # log\n",
    "    data_df=log_columns(data_df, mod_cols, base=base)\n",
    "\n",
    "    # norm\n",
    "    data_df=adj_columns(data_df, mod_cols, \"norm\")\n",
    "\n",
    "    # norm\n",
    "    data_df=z_score(data_df, mod_cols, \"z\")\n",
    "\n",
    "    # scale\n",
    "    data_df=scale(data_df, mod_cols)\n",
    "    \n",
    "    # reaction degree\n",
    "    data_df_sources=data_df.loc[sources.index]\n",
    "    data_df_sinks=data_df.loc[sinks.index]\n",
    "    \n",
    "    # reaction essentiality\n",
    "    data_df_ess=data_df[data_df[\"ess\"]==1]\n",
    "    data_df_noness=data_df[data_df[\"ess\"]==0]\n",
    "    \n",
    "    data_df=data_df.sort_values(by=\"r\", ascending=False)\n",
    "    \n",
    "#     data_df[\"log_p_push_k_out\"]=data_df[\"log_p_push\"]/data_df[\"log_k_out\"]\n",
    "\n",
    "    return data_df, data_df_sources, data_df_sinks, data_df_ess, data_df_noness\n",
    "\n",
    "def sharing_data_processing_2(data_df, data_df_sources, data_df_sinks, rm_sources=True, rm_sinks=True, base=2):\n",
    "\n",
    "    # remove source and sink nodes\n",
    "    if (rm_sources):\n",
    "        data_df_f=data_df.drop(data_df_sources.index)\n",
    "    else:\n",
    "        data_df_f=data_df.copy()\n",
    "        \n",
    "    if (rm_sinks):\n",
    "        data_df_f=data_df_f.drop(data_df_sinks.index)\n",
    "        \n",
    "    data_df_f[\"pp_kout\"]=data_df_f[\"p_push\"]/data_df_f[\"k_out\"]\n",
    "    data_df_f=log_columns(data_df_f, [\"pp_kout\"], base=base)\n",
    "\n",
    "    # get ess and non ess \n",
    "    data_df_f_ess=data_df_f[data_df_f[\"ess\"]==1]\n",
    "    data_df_f_noness=data_df_f[data_df_f[\"ess\"]==0]\n",
    "    \n",
    "    return data_df_f, data_df_f_ess, data_df_f_noness"
   ]
  },
  {
   "cell_type": "markdown",
   "id": "6566f9da",
   "metadata": {},
   "source": [
    "#### Product sharing functions"
   ]
  },
  {
   "cell_type": "code",
   "execution_count": 63,
   "id": "80710c25",
   "metadata": {},
   "outputs": [],
   "source": [
    "# counts reactant and product sharing across all reactions\n",
    "def all_prods_reacts_dict(fba_ecoli_lofo, ecoli_model, rev=False):\n",
    "    \n",
    "    all_reactants=[]\n",
    "    all_products=[]\n",
    "    for rxn in list(fba_ecoli_lofo.keys()):\n",
    "        rxn_df=ecoli_model.reactions.get_by_id(rxn)\n",
    "        rxn_reactants=rxn_df.reactants\n",
    "        rxn_products=rxn_df.products\n",
    "        rxn_reactants=[i.id for i in rxn_reactants]\n",
    "        rxn_products=[i.id for i in rxn_products]\n",
    "\n",
    "        rxn_reversibility=rxn_df.reversibility\n",
    "        if (rev):\n",
    "            if (rxn_reversibility):\n",
    "                all_mets=rxn_reactants+rxn_products\n",
    "                all_reactants+=all_mets\n",
    "                all_products+=all_mets\n",
    "            else:\n",
    "                all_reactants+=rxn_reactants\n",
    "                all_products+=rxn_products\n",
    "        else:\n",
    "            all_reactants+=rxn_reactants\n",
    "            all_products+=rxn_products\n",
    "        \n",
    "    # count and convert to dictionary\n",
    "    all_products_dict=Counter(all_products)\n",
    "    all_reactants_dict=Counter(all_reactants)\n",
    "\n",
    "    # sort dictionaries and create a list of metabolites to ignore because they are too prevelant\n",
    "    all_products_dict={k: v for k, v in sorted(all_products_dict.items(), key=lambda item: item[1])}\n",
    "    all_reactants_dict={k: v for k, v in sorted(all_reactants_dict.items(), key=lambda item: item[1])}\n",
    "        \n",
    "    return all_reactants_dict, all_products_dict\n",
    "\n",
    "# create dataframe info in one dict\n",
    "def split_react_prod_dict_by_ess(fba_ecoli_lofo):\n",
    "    all_reactants_ess=[]\n",
    "    all_products_ess=[]\n",
    "    all_reactants_noness=[]\n",
    "    all_products_noness=[]\n",
    "\n",
    "    for rxn, obj in zip(fba_ecoli_lofo.keys(), fba_ecoli_lofo.values()):\n",
    "        rxn_df=ecoli_model.reactions.get_by_id(rxn)\n",
    "        rxn_reactants=rxn_df.reactants\n",
    "        rxn_products=rxn_df.products\n",
    "        rxn_reactants=[i.id for i in rxn_reactants]\n",
    "        rxn_products=[i.id for i in rxn_products]\n",
    "        if (obj < 2):\n",
    "            all_reactants_ess+=rxn_reactants\n",
    "            all_products_ess+=rxn_products\n",
    "        else:\n",
    "            all_reactants_noness+=rxn_reactants\n",
    "            all_products_noness+=rxn_products\n",
    "\n",
    "    # create dicts\n",
    "    all_reactants_ess_dict=dict(Counter(all_reactants_ess))\n",
    "    all_products_ess_dict=dict(Counter(all_products_ess))\n",
    "    all_reactants_noness_dict=dict(Counter(all_reactants_noness))\n",
    "    all_products_noness_dict=dict(Counter(all_products_noness))\n",
    "    \n",
    "    return all_reactants_ess_dict, all_products_ess_dict, all_reactants_noness_dict, all_products_noness_dict"
   ]
  },
  {
   "cell_type": "markdown",
   "id": "0bd67b22",
   "metadata": {},
   "source": [
    "#### Product push testing functions"
   ]
  },
  {
   "cell_type": "code",
   "execution_count": 64,
   "id": "e5fa83f0",
   "metadata": {},
   "outputs": [],
   "source": [
    "# product push functions\n",
    "def get_reaction_information(rxn, model):\n",
    "    rxn_df=model.reactions.get_by_id(rxn)\n",
    "    reversibility=rxn_df.reversibility\n",
    "    rxn_reactants, rxn_products=rxn_df.reactants, rxn_df.products\n",
    "    rxn_reactant_names=[i.id for i in rxn_reactants]\n",
    "    rxn_product_names=[i.id for i in rxn_products]\n",
    "    all_metabolites=rxn_reactants+rxn_products\n",
    "    all_metabolite_names=rxn_reactant_names+rxn_product_names\n",
    "    rxn_object={'df':rxn_df, 'rev':reversibility, 'r':rxn_reactants, 'p':rxn_products, 'rn': rxn_reactant_names, 'pn':rxn_product_names, 'm':all_metabolites, 'mn':all_metabolite_names}\n",
    "    return rxn_object\n",
    "\n",
    "# conducts product push for all mets in a reaction (based on reversibility)\n",
    "def f1_product_push(rxn, model, graph, f1_rev=False, f2_rev=False):\n",
    "    rxn_object=get_reaction_information(rxn, model)\n",
    "    reversibility=rxn_object['rev']\n",
    "    mets=rxn_object['pn']\n",
    "    if (f1_rev and reversibility):\n",
    "        mets=rxn_object['mn']\n",
    "    rxn_neighbors=[n for n in graph.neighbors(rxn)]\n",
    "    rxn_p_push={}\n",
    "    for m in mets:\n",
    "        p_push=[]\n",
    "        for nxt_rxn in rxn_neighbors:\n",
    "            p_push.append(f2_product_push(m, nxt_rxn, model, f2_rev=f2_rev))\n",
    "        rxn_p_push[m]=sum(p_push)\n",
    "    return rxn_p_push\n",
    "        \n",
    "# check how many times the given product appears in the next reaction\n",
    "def f2_product_push(p, rxn, model, f2_rev=False):\n",
    "    rxn_object=get_reaction_information(rxn, model)\n",
    "    reversibility=rxn_object['rev']\n",
    "    mets=rxn_object['rn']\n",
    "    if (f2_rev and reversibility):\n",
    "        mets=rxn_object['mn']\n",
    "    p_push=sum([1 if (m==p) else 0 for m in mets])\n",
    "    return p_push\n",
    "\n",
    "def product_push_main(lofo_dict, model, graph, func, mets_to_ignore=[], f1_rev=False, f2_rev=False, ignore_zero_push=False, return_func_df=False):\n",
    "    product_push_data={}\n",
    "    product_push_func={}\n",
    "    for rxn, obj in lofo_dict.items():\n",
    "        rxn_p_push=f1_product_push(rxn, model, graph, f1_rev=f1_rev, f2_rev=f2_rev)\n",
    "        if (len(mets_to_ignore)!=0 and len(rxn_p_push)!=0):\n",
    "                rxn_p_push={key: value for key, value in rxn_p_push.items() if key not in mets_to_ignore}\n",
    "        if (ignore_zero_push and len(rxn_p_push)!=0):\n",
    "            rxn_p_push={key: value for key, value in rxn_p_push.items() if value!=0}\n",
    "        if (len(rxn_p_push)==0):\n",
    "            rxn_p_push_func=0\n",
    "        else:\n",
    "            rxn_p_push_func=func(list(rxn_p_push.values()))\n",
    "        \n",
    "        product_push_data[rxn]=rxn_p_push\n",
    "        product_push_func[rxn]=rxn_p_push_func\n",
    "        \n",
    "    if (return_func_df):\n",
    "        product_push_func=pd.DataFrame.from_dict(product_push_func, orient='index')\n",
    "        product_push_func.columns=[\"p_push\"]\n",
    "\n",
    "    return product_push_data, product_push_func\n",
    "\n",
    "# testing function\n",
    "# product_push_data, product_push_func=product_push_main(fba_ecoli_lofo, ecoli_model, ecoli_dg, np.mean, mets_to_ignore=[], f1_rev=True, f2_rev=True, ignore_zero_push=True, return_func_df=True)"
   ]
  },
  {
   "cell_type": "markdown",
   "id": "3eaa8cdf",
   "metadata": {},
   "source": [
    "#### Aggregate product sharing and product push functions"
   ]
  },
  {
   "cell_type": "code",
   "execution_count": 65,
   "id": "d4292695",
   "metadata": {},
   "outputs": [],
   "source": [
    "# product sharing functions\n",
    "def product_sharing(lofo_dict, graph, all_reactants_dict, all_products_dict, mets_to_ignore=[], s_func=min, pp_func=sum, return_pushin_p=False, ignore_zero_sharing=False):\n",
    "    data={}\n",
    "    num_reactants=[]\n",
    "    num_products=[]\n",
    "    pushin_p={}\n",
    "    product_push_data, product_push_func=product_push_main(fba_ecoli_lofo, ecoli_model, ecoli_dg, pp_func, mets_to_ignore=mets_to_ignore, f1_rev=rev1, f2_rev=rev2, ignore_zero_push=ignore_zero_push, return_func_df=False)\n",
    "    pushin_p=product_push_data\n",
    "    for rxn, obj in zip(fba_ecoli_lofo.keys(), fba_ecoli_lofo.values()):\n",
    "        loop_data=[]\n",
    "        rxn_df=ecoli_model.reactions.get_by_id(rxn)\n",
    "        reversibility=rxn_df.reversibility\n",
    "        rxn_reactants=rxn_df.reactants\n",
    "        rxn_products=rxn_df.products\n",
    "        rxn_reactant_names=[i.id for i in rxn_reactants]\n",
    "        rxn_product_names=[i.id for i in rxn_products]\n",
    "\n",
    "        # get num reactants and products for each reaction\n",
    "        num_reactants.append(len(rxn_reactant_names))\n",
    "        num_products.append(len(rxn_product_names))\n",
    "\n",
    "        # should be using all reactants or products\n",
    "        r_sharing=[]\n",
    "        p_sharing=[]\n",
    "        for r in rxn_reactant_names:\n",
    "            r_sharing.append(all_reactants_dict[r])\n",
    "\n",
    "        for p in rxn_product_names:\n",
    "            p_sharing.append(all_products_dict[p]) \n",
    "\n",
    "        # take function\n",
    "        loop_data.append(func(r_sharing)) # min, max, or sum\n",
    "        loop_data.append(func(p_sharing)) # min, max, or sum\n",
    "\n",
    "        # append len of each\n",
    "        loop_data.append(len(r_sharing))\n",
    "        loop_data.append(len(p_sharing))\n",
    "\n",
    "        # append reversibility\n",
    "        loop_data.append(reversibility)\n",
    "\n",
    "        # taking len() function as a metric for reaction sharing - from bigg database\n",
    "        r_sharing=[len(i.reactions) for i in rxn_reactants]\n",
    "        p_sharing=[len(i.reactions) for i in rxn_products]\n",
    "        loop_data.append(func(r_sharing)) # min, max, or sum\n",
    "        loop_data.append(func(p_sharing)) # min, max, or sum\n",
    "        \n",
    "\n",
    "        if (obj < 2):\n",
    "            loop_data.append(1)\n",
    "        else:\n",
    "            loop_data.append(0)\n",
    "\n",
    "        # add final data\n",
    "        data[rxn]=loop_data\n",
    "        \n",
    "    if (return_pushin_p):\n",
    "        return data, pushin_p\n",
    "    return data \n",
    "\n",
    "# main product push and product sharing function\n",
    "def get_sharing_data(fba_ecoli_lofo, ecoli_dg, all_reactants_dict, all_products_dict, mets_to_ignore, func=min, pp_func=sum, ignore_mets=True, rev1=True, rev2=True, return_pushin_p=False, ignore_zero_push=False):\n",
    "    data={}\n",
    "    num_reactants=[]\n",
    "    num_products=[]\n",
    "    pushin_p={}\n",
    "    for rxn, obj in zip(fba_ecoli_lofo.keys(), fba_ecoli_lofo.values()):\n",
    "        loop_data=[]\n",
    "        rxn_df=ecoli_model.reactions.get_by_id(rxn)\n",
    "        reversibility=rxn_df.reversibility\n",
    "        rxn_reactants=rxn_df.reactants\n",
    "        rxn_products=rxn_df.products\n",
    "        rxn_reactant_names=[i.id for i in rxn_reactants]\n",
    "        rxn_product_names=[i.id for i in rxn_products]\n",
    "\n",
    "        # get num reactants and products for each reaction\n",
    "        num_reactants.append(len(rxn_reactant_names))\n",
    "        num_products.append(len(rxn_product_names))\n",
    "\n",
    "        # should be using all reactants or products \n",
    "        r_sharing=[]\n",
    "        p_sharing=[]\n",
    "        for r in rxn_reactant_names:\n",
    "            r_sharing.append(all_reactants_dict[r])\n",
    "\n",
    "        for p in rxn_product_names:\n",
    "            p_sharing.append(all_products_dict[p]) \n",
    "\n",
    "        # take function\n",
    "        loop_data.append(func(r_sharing)) # min, max, or sum\n",
    "        loop_data.append(func(p_sharing)) # min, max, or sum\n",
    "\n",
    "        # append len of each\n",
    "        loop_data.append(len(r_sharing))\n",
    "        loop_data.append(len(p_sharing))\n",
    "\n",
    "        # append reversibility\n",
    "        loop_data.append(reversibility)\n",
    "\n",
    "        # taking len() function as a metric for sharing - from bigg database\n",
    "        r_sharing=[len(i.reactions) for i in rxn_reactants]\n",
    "        p_sharing=[len(i.reactions) for i in rxn_products]\n",
    "        loop_data.append(func(r_sharing)) # min, max, or sum\n",
    "        loop_data.append(func(p_sharing)) # min, max, or sum\n",
    "        \n",
    "        ##### START PRODUCT PUSH CODE\n",
    "        # see how products of selected rxn are used as reactants in next rxn\n",
    "        node_out_neighbors=[n for n in ecoli_dg.neighbors(rxn)]\n",
    "        product_pass_dict={}\n",
    "        nxt_react=[]\n",
    "\n",
    "        if (rev1):\n",
    "            if (reversibility): # if the reaction is reversible, use both the products and the reactants to feed into the next reaction\n",
    "                mets_to_consider=rxn_product_names+rxn_reactant_names\n",
    "            else:\n",
    "                mets_to_consider=rxn_product_names\n",
    "        else:\n",
    "            mets_to_consider=rxn_product_names\n",
    "\n",
    "        for p in mets_to_consider:\n",
    "            p_share_count=0\n",
    "            for next_rxn in node_out_neighbors:\n",
    "                next_rxn_df=ecoli_model.reactions.get_by_id(next_rxn)\n",
    "                next_reversibility=next_rxn_df.reversibility\n",
    "                next_rxn_reactants=next_rxn_df.reactants\n",
    "                next_rxn_products=next_rxn_df.products\n",
    "                next_rxn_reactant_names=[i.id for i in next_rxn_reactants]\n",
    "                next_rxn_product_names=[i.id for i in next_rxn_products]\n",
    "                nxt_react+=next_rxn_product_names\n",
    "                if (len(nxt_react)==0):\n",
    "                    print('no next products')\n",
    "\n",
    "                # second reversibility clause\n",
    "                if (rev2):\n",
    "                    if (next_reversibility):\n",
    "                        next_mets_to_consider=next_rxn_reactant_names+next_rxn_product_names\n",
    "                    else:\n",
    "                        next_mets_to_consider=next_rxn_reactant_names\n",
    "                else:\n",
    "                    next_mets_to_consider=next_rxn_reactant_names\n",
    "\n",
    "                if (ignore_mets):\n",
    "                    if p in mets_to_ignore.keys():\n",
    "                        continue\n",
    "                        \n",
    "                if p in next_mets_to_consider:\n",
    "                    p_share_count+=1\n",
    "\n",
    "            # ignore zero product push if option selected\n",
    "            if (ignore_zero_push):\n",
    "                if (p_share_count==0):\n",
    "                    continue\n",
    "                else:\n",
    "                    product_pass_dict[p]=p_share_count\n",
    "            else:\n",
    "                product_pass_dict[p]=p_share_count\n",
    "\n",
    "        pushin_p[rxn]=product_pass_dict\n",
    "        \n",
    "        # get total product push forward\n",
    "        product_push=pp_func(list(product_pass_dict.values())) # min, max, or sum\n",
    "        ##### END PRODUCT PUSH CODE\n",
    "                \n",
    "        # append\n",
    "        loop_data.append(product_push)\n",
    "\n",
    "        if (obj < 2):\n",
    "            loop_data.append(1)\n",
    "        else:\n",
    "            loop_data.append(0)\n",
    "\n",
    "\n",
    "        # add final data\n",
    "        data[rxn]=loop_data\n",
    "        \n",
    "    if (return_pushin_p):\n",
    "        return data, pushin_p\n",
    "    return data "
   ]
  },
  {
   "cell_type": "markdown",
   "id": "d3b9c4e7",
   "metadata": {},
   "source": [
    "#### Regression fitting and plotting functions"
   ]
  },
  {
   "cell_type": "code",
   "execution_count": 120,
   "id": "3140185d",
   "metadata": {},
   "outputs": [],
   "source": [
    "def sk_lr(df, x_label, y_label):\n",
    "    x=np.array(df[x_label]).reshape((-1, 1))\n",
    "    y=np.array(df[y_label])\n",
    "    model = LinearRegression()\n",
    "    model.fit(x, y.reshape((-1, 1)))\n",
    "    r_sq=model.score(x, y)\n",
    "    print(f\"coefficient of determination: {r_sq}\")\n",
    "    return r_sq\n",
    "    \n",
    "def sp_lr(df, x_label, y_label):\n",
    "    x=np.array(df[x_label]) # .reshape((-1, 1))\n",
    "    y=np.array(df[y_label])\n",
    "    slope, intercept, r_value, p_value, std_err = linregress(y, x)\n",
    "    print(\"Slope: \", slope)\n",
    "    print(\"Intercept: \", intercept)\n",
    "    print(\"r-value: \", r_value)\n",
    "    print(\"p-value: \", p_value)\n",
    "    print(\"standard error: \", std_err)\n",
    "    return slope, intercept, r_value, p_value, std_err\n",
    "\n",
    "def abline(slope, intercept):\n",
    "    \"\"\"Plot a line from slope and intercept\"\"\"\n",
    "    axes = plt.gca()\n",
    "    x_vals = np.array(axes.get_xlim())\n",
    "    y_vals = intercept + slope * x_vals\n",
    "    plt.plot(x_vals, y_vals, '--', color='red')\n",
    "    \n",
    "def best_fit(X, Y):\n",
    "    xbar = sum(X)/len(X)\n",
    "    ybar = sum(Y)/len(Y)\n",
    "    n = len(X) # or len(Y)\n",
    "    numer = sum([xi*yi for xi,yi in zip(X, Y)]) - n * xbar * ybar\n",
    "    denum = sum([xi**2 for xi in X]) - n * xbar**2\n",
    "    b = numer / denum\n",
    "    a = ybar - b * xbar\n",
    "    return a, b\n",
    "\n",
    "def parabola(x, a, b, c):\n",
    "    return a*x**2 + b*x + c\n"
   ]
  },
  {
   "cell_type": "markdown",
   "id": "7fa4071e",
   "metadata": {},
   "source": [
    "#### Histogram plotting functions"
   ]
  },
  {
   "cell_type": "code",
   "execution_count": 183,
   "id": "11c88598",
   "metadata": {},
   "outputs": [],
   "source": [
    "# assign bins for histogram\n",
    "def assign_bins(df, col, bins, manual_bins=[], remove_outliers=False, q=0.99, z_filter=False, z_t=2, z_col='z_r', return_hist=False):\n",
    "    \n",
    "    # not used: remove outliers (https://stackoverflow.com/questions/23199796/detect-and-exclude-outliers-in-a-pandas-dataframe)\n",
    "    if (remove_outliers):\n",
    "        q = df[col].quantile(q)\n",
    "        df=df[df[col] < q]\n",
    "\n",
    "    if (z_filter):\n",
    "        df=df[df[z_col]<z_t]\n",
    "        \n",
    "    col_data=list(df[col])\n",
    "    \n",
    "    # make sure min of data is not zero\n",
    "    if (min(col_data)==0):\n",
    "        print(\"Warning, minimum of data is zero.\")\n",
    "        \n",
    "    if (len(manual_bins)==0):\n",
    "        hist,bin_edges=np.histogram(col_data, bins=bins)\n",
    "    else:\n",
    "        hist,bin_edges=np.histogram(col_data, bins=manual_bins)\n",
    "        \n",
    "    hist=list(hist)\n",
    "    bin_edges=list(bin_edges)\n",
    "    \n",
    "    # get bin edge pairs\n",
    "    bin_edge_pairs={}\n",
    "    for i in range(len(bin_edges)):\n",
    "        if (i>=len(bin_edges)-1):\n",
    "            break\n",
    "        pair=(bin_edges[i], bin_edges[i+1])\n",
    "        bin_edge_pairs[pair]=f\"g{i}\"        \n",
    "        \n",
    "    # bound the data\n",
    "    df_hist=pd.DataFrame()\n",
    "    for bin_pair, label in zip(bin_edge_pairs.keys(), bin_edge_pairs.values()):\n",
    "        df_bounded=df.loc[df[col].between(bin_pair[0], bin_pair[1])]\n",
    "        df_bounded[\"hist_label\"]=label\n",
    "        df_hist=pd.concat([df_hist, df_bounded])\n",
    "        \n",
    "    if (return_hist):\n",
    "        return df_hist, hist, bin_edges, bin_edge_pairs\n",
    "    else:\n",
    "        return df_hist\n",
    "    \n",
    "# computes fraction of essential reactions\n",
    "def compute_fraction_essential_hist(df_hist, hist, bin_edges, bin_edge_pairs, compute_ratio=False):\n",
    "    df_ess=pd.DataFrame()\n",
    "    df_ess[\"hist_label\"]=list(bin_edge_pairs.values())\n",
    "    df_ess[\"hist_counts\"]=hist\n",
    "    ess_counts=[]\n",
    "    noness_counts=[]\n",
    "    ess_fracs=[]\n",
    "    bin_centers=[]\n",
    "    left_bin=[]\n",
    "    right_bin=[]\n",
    "    for pair, label in zip(bin_edge_pairs.keys(), bin_edge_pairs.values()):\n",
    "        bin_centers.append(np.mean(pair))\n",
    "        left_bin.append(pair[0])\n",
    "        right_bin.append(pair[1])\n",
    "        df_hist_label=df_hist[df_hist[\"hist_label\"]==label]\n",
    "        num_ess=len(df_hist_label[df_hist_label[\"ess\"]==1])\n",
    "        num_noness=len(df_hist_label[df_hist_label[\"ess\"]==0])\n",
    "        if (compute_ratio):\n",
    "            if (num_noness==0):\n",
    "                frac_ess=0\n",
    "            else:\n",
    "                frac_ess=num_ess/num_noness\n",
    "        else:\n",
    "            if ((num_ess+num_noness)==0):\n",
    "                frac_ess=0\n",
    "            else:\n",
    "                frac_ess=num_ess/(num_ess+num_noness)\n",
    "        \n",
    "        # append data\n",
    "        ess_counts.append(num_ess)\n",
    "        noness_counts.append(num_noness)\n",
    "        ess_fracs.append(frac_ess)\n",
    "        \n",
    "    # update df\n",
    "    df_ess[\"num_ess\"]=ess_counts\n",
    "    df_ess[\"num_noness\"]=noness_counts\n",
    "    df_ess[\"frac_ess\"]=ess_fracs\n",
    "    df_ess[\"left_bin\"]=left_bin\n",
    "    df_ess[\"bin_centers\"]=bin_centers\n",
    "    df_ess[\"right_bin\"]=right_bin\n",
    "    \n",
    "    # return \n",
    "    return df_ess\n",
    "\n",
    "def create_bins(lb, ub, s, mb=1):\n",
    "    if (mb==1):\n",
    "        manual_bins=list(np.arange(lb, ub, s))\n",
    "        print(list(np.arange(lb, ub, s)))\n",
    "        print(len(list(np.arange(lb, ub, s))))\n",
    "    else: \n",
    "        manual_bins=[]\n",
    "    return manual_bins\n",
    "\n",
    "# plot histogram \n",
    "def plot_histogram(data_df_hist, data_df_ess_frac, xl, yl, subset=[], frac_ess=True):\n",
    "    if (len(subset)!=0):\n",
    "        data_df_hist=data_df_hist[data_df_hist[\"hist_label\"].isin(subset)]\n",
    "        data_df_ess_frac=data_df_ess_frac[data_df_ess_frac[\"hist_label\"].isin(subset)]\n",
    "    if (frac_ess):\n",
    "        df_to_use=data_df_ess_frac.copy()\n",
    "    else:\n",
    "        df_to_use=data_df_hist.copy()\n",
    "    x=df_to_use[xl]\n",
    "    y=df_to_use[yl]\n",
    "    sk_lr(df_to_use, xl, yl)\n",
    "    plt.scatter(x, y)  \n",
    "    plt.xlabel(xl)\n",
    "    plt.ylabel(yl)\n",
    "#     plt.show()\n",
    "    \n",
    "def group_ranges(b1, b2):\n",
    "    subset=[]\n",
    "    for i in range(b1,b2+1):\n",
    "        subset.append(f\"g{str(i)}\")\n",
    "    return subset"
   ]
  },
  {
   "cell_type": "markdown",
   "id": "66f1ff98",
   "metadata": {},
   "source": [
    "### Testing"
   ]
  },
  {
   "cell_type": "markdown",
   "id": "648adc34",
   "metadata": {},
   "source": [
    "#### Base LOFO analysis"
   ]
  },
  {
   "cell_type": "code",
   "execution_count": 8,
   "id": "7789515a",
   "metadata": {},
   "outputs": [],
   "source": [
    "# get graph\n",
    "File_name = '12859_2019_2897_MOESM2_ESM.xlsx'\n",
    "\n",
    "sheet_names = pd.ExcelFile(File_name).sheet_names\n",
    "sheets = {}\n",
    "for sheet in sheet_names:\n",
    "    sheets[sheet] = pd.read_excel(File_name,sheet_name=sheet,index_col=0)\n",
    "    \n",
    "# load the graphs into a dictionary - only done for ecoli\n",
    "graphs = {}\n",
    "graphs[sheet_names[0]] = nx.from_pandas_adjacency(sheets[sheet_names[0]],create_using=nx.DiGraph)"
   ]
  },
  {
   "cell_type": "code",
   "execution_count": 9,
   "id": "142d4bcd",
   "metadata": {},
   "outputs": [],
   "source": [
    "# fixing typo in supplementary table from the paper\n",
    "index = sheet_names.index(\"E.coli (iJ01366)\")\n",
    "sheet_names[index] = \"E.coli (iJO1366)\"\n",
    "\n",
    "# get micro models - only loaded in ecoli\n",
    "Micro_models = {}\n",
    "sheet=sheet_names[0]\n",
    "model_name = sheet.split('(')[1].split(')')[0] # iJO1366\n",
    "model_path = Path(model_name+'.xml')\n",
    "Micro_models[sheet] = read_sbml_model(str(model_path))"
   ]
  },
  {
   "cell_type": "code",
   "execution_count": 10,
   "id": "06d90c4b",
   "metadata": {},
   "outputs": [
    {
     "name": "stdout",
     "output_type": "stream",
     "text": [
      "Growth rate:  31.28217176977684\n"
     ]
    }
   ],
   "source": [
    "# allowed nutrients are above\n",
    "allowed_nutrients = ['EX_ca2_e', 'EX_cl_e', 'EX_co2_e', 'EX_cobalt2_e', 'EX_cu2_e', 'EX_fe2_e', 'EX_fe3_e', 'EX_glc__D_e', 'EX_h_e', 'EX_h2o_e', 'EX_h_e', 'EX_k_e', 'EX_mg2_e', 'EX_mn2_e', 'EX_mqn8_e', 'EX_na1_e', 'EX_nh4_e', 'EX_ni2_e', 'EX_o2_e', 'EX_sel_e', 'EX_slnt_e', 'EX_so4_e', 'EX_tungs_e', 'EX_zn2_e']\n",
    "\n",
    "ecoli_model = Micro_models[\"E.coli (iJO1366)\"]\n",
    "\n",
    "# changing lower bounds impacts reversibility of reactions, change this code so it only overrides when no value is given in the model\n",
    "for reaction in ecoli_model.exchanges:\n",
    "    if reaction.id in allowed_nutrients:\n",
    "        reaction.lower_bound = -1000\n",
    "\n",
    "solution = ecoli_model.optimize()\n",
    "fluxes=pd.DataFrame(solution.fluxes)\n",
    "\n",
    "print('Growth rate: ', solution.objective_value)"
   ]
  },
  {
   "cell_type": "code",
   "execution_count": 11,
   "id": "77a87b21",
   "metadata": {},
   "outputs": [],
   "source": [
    "# create df and adjust index and column names\n",
    "ecoli_graph_df=sheets[\"E.coli (iJ01366)\"]\n",
    "ecoli_graph_df.index=ecoli_graph_df.index.str.replace(\" \", \"\")\n",
    "ecoli_graph_df.columns=ecoli_graph_df.columns.str.replace(\" \", \"\")\n",
    "\n",
    "# make reaction correction\n",
    "replace_pairs=[(\"THRA2i\", \"THRA2\"), (\"THRAi\", \"THRA\"), (\"PPK2r\", \"PPK2\"), (\"SULRi\", \"SULR\")]\n",
    "ecoli_graph_df=replace_index(ecoli_graph_df, replace_pairs)\n",
    "ecoli_graph_df=replace_column(ecoli_graph_df, replace_pairs)"
   ]
  },
  {
   "cell_type": "code",
   "execution_count": 12,
   "id": "e4845a2c",
   "metadata": {},
   "outputs": [],
   "source": [
    "# leave one feature out (remove one reaction at a time) and compute growth rate\n",
    "fba_ecoli_lofo={}\n",
    "reactions=list(ecoli_graph_df.index)\n",
    "for rxn in reactions:\n",
    "    rxn_df=ecoli_model.reactions.get_by_id(rxn)\n",
    "    old_bounds=rxn_df.bounds\n",
    "    rxn_df.knock_out()\n",
    "    solution=ecoli_model.optimize()\n",
    "    fba_ecoli_lofo[rxn]=solution.objective_value\n",
    "    rxn_df.bounds=old_bounds\n",
    "    \n",
    "    #change this code so it only overrides when no value is given in the model\n",
    "#     for reaction in ecoli_model_rmv_rxn.exchanges:\n",
    "#         if reaction.id in allowed_nutrients:\n",
    "#             reaction.lower_bound = -1000\n",
    "            \n",
    "#     solution = ecoli_model_rmv_rxn.optimize()\n",
    "#     fba_ecoli_lofo[rxn]=solution.objective_value\n",
    "#     ecoli_model.add_reactions(rxn)"
   ]
  },
  {
   "cell_type": "markdown",
   "id": "de16e99e",
   "metadata": {},
   "source": [
    "#### Experiements\n",
    "\n",
    "__Note:__ For the directed graph adjacency matrix, summing down the column represents in degree and summing across the row represents out degree. Row to column represents the directionality. \n",
    "\n",
    " - For a given reaction, if it is essential, see how many reactions its products and reactants are involved in. Repeat the same for non-essential reactions and conduct a significance test to see if essential reactions are involved in using or generating reactants and products that are more shared relative to those of non-essential reactions.\n",
    " - See repetition of reactants and products in essential and non-essential reactions. Essential reactions should have a lower number of repeated metabolites than non-essential reaections. \n",
    " - Linear regression between number of shared reactants a reaction has and its node degree or other centrality metrics. Use fraction of essential reactions per group of shared reactants or products. Also compute min/max/sum of shared reactants and products and count frequency of each group, then compute linear regression for frequency of group and the actual group value. We are expecting to see that groups with less shared reactants and products have a higher fraction of essential reactions. \n",
    " - Separate in and out degree and recompute centrality metrics and also recompute linear regression. Check which side of the matrix is the in and out degree. \n",
    " - Correlate the shared reactant count to the number of in and out degrees."
   ]
  },
  {
   "cell_type": "code",
   "execution_count": 14,
   "id": "3e6756fa",
   "metadata": {},
   "outputs": [],
   "source": [
    "all_reactants_dict, all_products_dict=all_prods_reacts_dict(fba_ecoli_lofo, ecoli_model, rev=False)"
   ]
  },
  {
   "cell_type": "code",
   "execution_count": 17,
   "id": "4b725bac",
   "metadata": {},
   "outputs": [],
   "source": []
  },
  {
   "cell_type": "code",
   "execution_count": null,
   "id": "bd01f37e",
   "metadata": {},
   "outputs": [],
   "source": [
    "# sns.displot(all_products_dict.values())\n",
    "# sns.displot(all_reactants_dict.values())"
   ]
  },
  {
   "cell_type": "code",
   "execution_count": null,
   "id": "b4eba30d",
   "metadata": {},
   "outputs": [],
   "source": [
    "# sns.distplot(list(all_products_ess_dict.values()))\n",
    "# sns.distplot(list(all_products_noness_dict.values()))\n",
    "\n",
    "# Counter(all_products_ess)\n",
    "# len(all_products)\n",
    "# len(all_reactants)\n",
    "# set(all_products)-set(all_reactants)"
   ]
  },
  {
   "cell_type": "markdown",
   "id": "f9c728af",
   "metadata": {},
   "source": [
    "#### Get centrality metrics\n",
    "\n",
    "Conduct linear regression between number of shared reactants and products each reaction has and its node degree for both non-essential and essential reactions.\n",
    "\n",
    "__Note:__ There seem to be nodes with 1 or 2 degrees (in, out, or both). With only 1 degree, the node can either be a source or sink (deadend). This can occur at all degrees, however, the probability of being a pure source or sink should become lower as you add more degrees in general. Remove sources and sinks for now as they bias analyses. "
   ]
  },
  {
   "cell_type": "code",
   "execution_count": 22,
   "id": "0d3d9042",
   "metadata": {},
   "outputs": [],
   "source": [
    "# get ecoli graph model\n",
    "ecoli_model_graph_df=graphs['E.coli (iJ01366)']"
   ]
  },
  {
   "cell_type": "code",
   "execution_count": 23,
   "id": "b64fbfe6",
   "metadata": {},
   "outputs": [],
   "source": [
    "# count single degree nodes - ecoli_graph_df was formatted above\n",
    "\n",
    "# for sum: axis=0 is across rows, so in degree while axis=1 is across cols, so out degree\n",
    "in_degree_dict=dict(ecoli_graph_df.sum(axis=0)) \n",
    "out_degree_dict=dict(ecoli_graph_df.sum(axis=1)) \n",
    "total_degree_dict=get_degree(ecoli_model_graph_df) # get_degree function\n",
    "\n",
    "# convert to df\n",
    "in_degree_df=pd.DataFrame.from_dict(in_degree_dict, orient=\"index\")\n",
    "out_degree_df=pd.DataFrame.from_dict(out_degree_dict, orient=\"index\")\n",
    "total_degree_df=pd.DataFrame.from_dict(total_degree_dict, orient=\"index\")\n",
    "replace_pairs=[(\"THRA2i\", \"THRA2\"), (\"THRAi\", \"THRA\"), (\"PPK2r\", \"PPK2\"), (\"SULRi\", \"SULR\")]\n",
    "total_degree_df=replace_index(total_degree_df, replace_pairs)\n",
    "\n",
    "#  merge\n",
    "degree_df=pd.concat([in_degree_df, out_degree_df, total_degree_df], axis=1)\n",
    "degree_df.columns=[\"k_in\", \"k_out\", \"k\"]"
   ]
  },
  {
   "cell_type": "code",
   "execution_count": 24,
   "id": "a1247360",
   "metadata": {},
   "outputs": [],
   "source": [
    "# get centrality metrics\n",
    "betweenness_centrality_dict=get_betweenness_centrality_log10(ecoli_model_graph_df)\n",
    "bridging_centrality_dict=get_bridging_centrality_log10(ecoli_model_graph_df)\n",
    "clustering_coefficient_dict=get_clustering_coefficient(ecoli_model_graph_df)\n",
    "\n",
    "# format\n",
    "replace_pairs=[(\"THRA2i\", \"THRA2\"), (\"THRAi\", \"THRA\"), (\"PPK2r\", \"PPK2\"), (\"SULRi\", \"SULR\")]\n",
    "\n",
    "betweenness_centrality_df=pd.DataFrame.from_dict(betweenness_centrality_dict, orient=\"index\")\n",
    "betweenness_centrality_df=replace_index(betweenness_centrality_df, replace_pairs)\n",
    "\n",
    "bridging_centrality_df=pd.DataFrame.from_dict(bridging_centrality_dict, orient=\"index\")\n",
    "bridging_centrality_df=replace_index(bridging_centrality_df, replace_pairs)\n",
    "\n",
    "clustering_coefficient_df=pd.DataFrame.from_dict(clustering_coefficient_dict, orient=\"index\")\n",
    "clustering_coefficient_df=replace_index(clustering_coefficient_df, replace_pairs)\n",
    "\n",
    "# merge\n",
    "cent_metrics_df=pd.concat([degree_df, betweenness_centrality_df, bridging_centrality_df, clustering_coefficient_df], axis=1)\n",
    "cent_metrics_df.columns=[\"k_in\", \"k_out\", \"k\", \"log_b\", \"log_bc\", \"log_cc\"]"
   ]
  },
  {
   "cell_type": "markdown",
   "id": "e8c270cb",
   "metadata": {},
   "source": [
    "If a node has an __in-degree = 0__ and an out-degree > 0, then it is a __source__. If a node has an __out-degree = 0__ and an in-degree > 0, it is a __sink__."
   ]
  },
  {
   "cell_type": "code",
   "execution_count": 25,
   "id": "5736516f",
   "metadata": {},
   "outputs": [],
   "source": [
    "# isolate edge cases\n",
    "sources=df_isolate(degree_df, \"k_in\", 0)\n",
    "sinks=df_isolate(degree_df, \"k_out\", 0)\n",
    "k_in_1=df_isolate(degree_df, \"k_in\", 1)\n",
    "k_out_1=df_isolate(degree_df, \"k_out\", 1)"
   ]
  },
  {
   "cell_type": "markdown",
   "id": "cefac0e1",
   "metadata": {},
   "source": [
    "__Reactant and product sharing counts__"
   ]
  },
  {
   "cell_type": "markdown",
   "id": "2e512391",
   "metadata": {},
   "source": [
    "Loop through and get reaction sharing counts. Note, the len() function counts the number of reactions that a reactant or product is involved in. This len reflects aggregate sharing, so it doesn't differentiate between reactants and products in other reactions, it only tells us which reactions the metabolite is broadly a part of. __Answered above__\n",
    "\n",
    "We will need to count the number of shared reactants and products manually. The sharing number should equal the total number of reactions involved either on the reactant or product size. \n",
    "\n",
    "We take __min()__ of the sharing count for reactants and products because we want to describe the most conserved element. \n",
    "\n",
    "__Note:__ Product push count can be higher than out-degree count because we are counting each product separately. Different products can be used in the same reaction. \n",
    "\n",
    "__MAYBE TRY CREATING AN OVERLAP INDEX TO SEE HOW MANY MULTIPLE PRODUCTS ARE USED AS REACTANTS IN THE NEXT REACTION__\n",
    "\n",
    "__IDENTIFY GENES ASSOCIATED WITH TOP REACTIONS__\n",
    "\n",
    "__WHAT DOES rxn_df.functional DO?__\n",
    "\n",
    "__NEED TO COMPUTE:__ For a given reaction and its products, how often do those products show up in other reactions? \n",
    "\n",
    "__NEED TO COMPUTE:__ For a given reaction (node), what percentage of its neighbors are the same type, both in, out separately and together. We want to see if essential reactions are either preceeded or succeeded also by other essential reactions. "
   ]
  },
  {
   "cell_type": "code",
   "execution_count": 26,
   "id": "7bc73b25",
   "metadata": {},
   "outputs": [],
   "source": [
    "# reload and format ecoli graph\n",
    "ecoli_adj_matrix=sheets['E.coli (iJ01366)']\n",
    "replace_pairs=[(\"THRA2i\", \"THRA2\"), (\"THRAi\", \"THRA\"), (\"PPK2r\", \"PPK2\"), (\"SULRi\", \"SULR\")]\n",
    "ecoli_adj_matrix=replace_index(ecoli_adj_matrix, replace_pairs)\n",
    "ecoli_adj_matrix=replace_column(ecoli_adj_matrix, replace_pairs)\n",
    "ecoli_dg=nx.from_pandas_adjacency(ecoli_adj_matrix,create_using=nx.DiGraph)"
   ]
  },
  {
   "cell_type": "code",
   "execution_count": 27,
   "id": "597dc26f",
   "metadata": {},
   "outputs": [],
   "source": [
    "# create metabolite exclusion list\n",
    "mets_to_ignore={'pyr_c': 34,'nh4_c': 42,'coa_c': 43,'ACP_c': 50,'nad_c': 53,'nadh_c': 57,'nadp_c': 71,'amp_c': 73,\n",
    "                'co2_c': 75,'h2o_c': 103,'ppi_c': 125,'adp_c': 128,'pi_c': 131,'h_c': 413}"
   ]
  },
  {
   "cell_type": "code",
   "execution_count": null,
   "id": "9201e79c",
   "metadata": {},
   "outputs": [],
   "source": [
    "# get essentiality\n",
    "essentiality={key: 1 if val<2 else 0 for key, val in fba_ecoli_lofo.items()}\n",
    "essentiality_df=pd.DataFrame.from_dict(essentiality, orient='index')\n",
    "essentiality_df.columns=[\"ess\"]\n",
    "df_metrics=pd.concat([cent_metrics_df, essentiality_df], axis=1)\n",
    "df_metrics_ess=df_metrics[df_metrics['ess']==1]\n",
    "df_metrics_noness=df_metrics[df_metrics['ess']==0]\n"
   ]
  },
  {
   "cell_type": "code",
   "execution_count": null,
   "id": "bbc9fc31",
   "metadata": {},
   "outputs": [],
   "source": [
    "# drop sinks and sources and normalize to k_out\n",
    "sinks_sources=list(sinks.index)+list(sources.index)\n",
    "df_metrics=df_metrics.drop(sinks_sources)\n",
    "df_metrics[\"pp_kout\"]=df_metrics[\"p_push\"]/df_metrics[\"k_out\"]\n",
    "df_metrics[\"pp_kout\"]=df_metrics[\"p_push\"]-df_metrics[\"k_out\"]"
   ]
  },
  {
   "cell_type": "code",
   "execution_count": null,
   "id": "c106876b",
   "metadata": {},
   "outputs": [],
   "source": [
    "# show that outdegree is saturated by only a few products\n",
    "max_rxn_met={}\n",
    "max_mets=[]\n",
    "for key, value in product_push_data.items():\n",
    "    if (len(value)==0):\n",
    "        max_rxn_met[key]=['NA', 0, 'NA', 0]\n",
    "    else:\n",
    "        max_met=max(value, key=value.get)\n",
    "        min_met=min(value, key=value.get)\n",
    "        max_met_push=value[max_met]\n",
    "        min_met_push=value[min_met]\n",
    "        max_rxn_met[key]=[max_met, max_met_push, min_met, min_met_push]\n",
    "        max_mets.append(max_met)\n",
    "\n",
    "        \n",
    "# calculate max met and its push\n",
    "max_rxn_met_df=pd.DataFrame.from_dict(max_rxn_met).T\n",
    "max_rxn_met_df.columns=['max_met', 'max_met_push', 'min_met', \"min_met_push\"]\n",
    "\n",
    "# merge\n",
    "max_rxn_cent_metrics=pd.concat([cent_metrics_df, max_rxn_met_df, product_push_func, essentiality_df], axis=1)\n",
    "\n",
    "# compute deviations\n",
    "max_rxn_cent_metrics[\"max_met_k_out_dev\"]=max_rxn_cent_metrics[\"k_out\"]-max_rxn_cent_metrics[\"max_met_push\"]\n",
    "max_rxn_cent_metrics[\"min_met_k_out_dev\"]=max_rxn_cent_metrics[\"k_out\"]-max_rxn_cent_metrics[\"min_met_push\"]\n",
    "\n",
    "# scale\n",
    "max_rxn_cent_metrics=scale(max_rxn_cent_metrics, [\"k_out\", \"max_met_push\", \"min_met_push\", 'p_push'], lb=min(max_rxn_cent_metrics['k_out']), ub=max(max_rxn_cent_metrics['k_out']))"
   ]
  },
  {
   "cell_type": "code",
   "execution_count": null,
   "id": "93761250",
   "metadata": {},
   "outputs": [],
   "source": []
  },
  {
   "cell_type": "code",
   "execution_count": null,
   "id": "cfacfba0",
   "metadata": {},
   "outputs": [],
   "source": [
    "# Counter(max_rxn_cent_metrics[\"k_out\"])"
   ]
  },
  {
   "cell_type": "code",
   "execution_count": null,
   "id": "0c6e2f26",
   "metadata": {},
   "outputs": [],
   "source": [
    "max_rxn_cent_metrics_f=max_rxn_cent_metrics[max_rxn_cent_metrics[\"max_met_push\"]>1]"
   ]
  },
  {
   "cell_type": "code",
   "execution_count": null,
   "id": "25ffbca1",
   "metadata": {},
   "outputs": [],
   "source": [
    "max_rxn_cent_metrics_f=max_rxn_cent_metrics[max_rxn_cent_metrics[\"k_out\"]>10]"
   ]
  },
  {
   "cell_type": "code",
   "execution_count": null,
   "id": "ed32c45b",
   "metadata": {},
   "outputs": [],
   "source": [
    "# sns.distplot(max_rxn_cent_metrics_f['k_out'])\n",
    "# sns.distplot(max_rxn_cent_metrics_f['max_met_push'], label='max')\n",
    "# sns.distplot(max_rxn_cent_metrics_f['min_met_push'], label='min')\n",
    "# plt.legend()\n",
    "# plt.show()"
   ]
  },
  {
   "cell_type": "code",
   "execution_count": null,
   "id": "f4b517ca",
   "metadata": {},
   "outputs": [],
   "source": [
    "# Counter(max_rxn_cent_metrics_f[\"max_met\"])"
   ]
  },
  {
   "cell_type": "code",
   "execution_count": null,
   "id": "4ee5a26b",
   "metadata": {},
   "outputs": [],
   "source": [
    "# ax=sns.scatterplot(data=max_rxn_cent_metrics, x='scale_k_out', y='scale_max_met_push')\n",
    "ax=sns.scatterplot(data=max_rxn_cent_metrics_f, x='k_out', y='max_met_push')\n",
    "ax.axline((0, 0), slope=1)\n"
   ]
  },
  {
   "cell_type": "code",
   "execution_count": null,
   "id": "4b27dab4",
   "metadata": {},
   "outputs": [],
   "source": [
    "# ax=sns.scatterplot(data=max_rxn_cent_metrics_f, x='k_out', y='p_push')\n",
    "ax=sns.scatterplot(data=max_rxn_cent_metrics, x='k_out', y='p_push', hue='ess')\n",
    "ax.axline((0, 0), slope=1)"
   ]
  },
  {
   "cell_type": "code",
   "execution_count": null,
   "id": "b1bc3d63",
   "metadata": {},
   "outputs": [],
   "source": [
    "sns.histplot(data=max_rxn_cent_metrics_f, x='max_met_k_out_dev')"
   ]
  },
  {
   "cell_type": "code",
   "execution_count": null,
   "id": "0a7c67de",
   "metadata": {},
   "outputs": [],
   "source": [
    "sns.histplot(data=max_rxn_cent_metrics_f, x='min_met_k_out_dev')"
   ]
  },
  {
   "cell_type": "code",
   "execution_count": null,
   "id": "4a7861fe",
   "metadata": {},
   "outputs": [],
   "source": [
    "sns.histplot(data=max_rxn_cent_metrics_f, x='min_met_push')"
   ]
  },
  {
   "cell_type": "code",
   "execution_count": null,
   "id": "7f7f2d7c",
   "metadata": {},
   "outputs": [],
   "source": [
    "max_mets_counts=Counter(max_mets)\n",
    "max_mets_df=pd.DataFrame.from_dict(max_mets_counts, orient='index')\n",
    "max_mets_df=max_mets_df.sort_values(by=0)\n",
    "max_mets_df_repeated=max_mets_df.tail(40)"
   ]
  },
  {
   "cell_type": "code",
   "execution_count": null,
   "id": "544e51e3",
   "metadata": {},
   "outputs": [],
   "source": [
    "sum(max_mets_df_repeated[0])"
   ]
  },
  {
   "cell_type": "code",
   "execution_count": null,
   "id": "f7c208fa",
   "metadata": {},
   "outputs": [],
   "source": [
    "sns.histplot(data=df_metrics, x=\"pp_kout\", kde=False, hue=\"ess\", multiple=\"stack\")\n",
    "# plt.xlim(1, 12)"
   ]
  },
  {
   "cell_type": "code",
   "execution_count": null,
   "id": "623e6281",
   "metadata": {},
   "outputs": [],
   "source": [
    "ax=sns.scatterplot(data=df_metrics, x='p_push', y='k_out', hue='ess')\n",
    "ax.axline((0, 0), slope=1)"
   ]
  },
  {
   "cell_type": "code",
   "execution_count": null,
   "id": "a2dc3f13",
   "metadata": {},
   "outputs": [],
   "source": [
    "# compute deviation from k_out...\n",
    "\n",
    "df_metrics_ess"
   ]
  },
  {
   "cell_type": "code",
   "execution_count": null,
   "id": "b1f4c2c4",
   "metadata": {},
   "outputs": [],
   "source": [
    "p_push_values=Counter(df_metrics_ess[\"p_push\"])"
   ]
  },
  {
   "cell_type": "code",
   "execution_count": null,
   "id": "3f1279d3",
   "metadata": {},
   "outputs": [],
   "source": [
    "Counter(df_metrics_ess[\"k_out\"])"
   ]
  },
  {
   "cell_type": "code",
   "execution_count": null,
   "id": "d3d8caf3",
   "metadata": {},
   "outputs": [],
   "source": [
    "# plot histogram of each individual value"
   ]
  },
  {
   "cell_type": "code",
   "execution_count": null,
   "id": "18aee192",
   "metadata": {},
   "outputs": [],
   "source": [
    "\n",
    "\n",
    "sns.histplot(data=df_metrics, x=\"p_push\", kde=False, hue=\"ess\", multiple=\"stack\")"
   ]
  },
  {
   "cell_type": "code",
   "execution_count": 1568,
   "id": "f8403b9c",
   "metadata": {},
   "outputs": [
    {
     "data": {
      "text/plain": [
       "1.5659574468085107"
      ]
     },
     "execution_count": 1568,
     "metadata": {},
     "output_type": "execute_result"
    }
   ],
   "source": [
    "np.mean(df_metrics_ess[\"p_push\"])"
   ]
  },
  {
   "cell_type": "code",
   "execution_count": 1575,
   "id": "4d716f61",
   "metadata": {},
   "outputs": [
    {
     "name": "stdout",
     "output_type": "stream",
     "text": [
      "Ttest_indResult(statistic=-0.4052180221704264, pvalue=0.6855700628278311)\n"
     ]
    }
   ],
   "source": [
    "f=\"k_out\"\n",
    "print(stats.ttest_ind(list(df_metrics_ess[f]), list(df_metrics_noness[f]), equal_var=False)) # equal_var=False\n",
    "\n"
   ]
  },
  {
   "cell_type": "code",
   "execution_count": null,
   "id": "03a0cb20",
   "metadata": {},
   "outputs": [],
   "source": [
    "# centrality metrics do not capture full image of graph"
   ]
  },
  {
   "cell_type": "markdown",
   "id": "4e934e53",
   "metadata": {},
   "source": [
    "__Computing essential reaction fraction and curve fitting__"
   ]
  },
  {
   "cell_type": "code",
   "execution_count": 179,
   "id": "28dcafc8",
   "metadata": {},
   "outputs": [
    {
     "name": "stdout",
     "output_type": "stream",
     "text": [
      "Warning, minimum of data is zero.\n",
      "coefficient of determination: 0.020015981134703154\n",
      "Slope:  1.0814860470051793\n",
      "Intercept:  0.7121694957876942\n",
      "r-value:  0.14147784679837005\n",
      "p-value:  0.6781872021068205\n",
      "standard error:  2.5224392826729765\n",
      "Number of remaining samples: 1251\n"
     ]
    },
    {
     "name": "stderr",
     "output_type": "stream",
     "text": [
      "C:\\Users\\chati\\AppData\\Local\\Temp/ipykernel_11628/3132611668.py:58: MatplotlibDeprecationWarning: savefig() got unexpected keyword argument \"bbox\" which is no longer supported as of 3.3 and will become an error two minor releases later\n",
      "  plt.savefig(\"Figures/Reaction_Essentiality_v_Out_Degree_Histogram.png\", bbox='tight', transparent=True, dpi=300)\n"
     ]
    },
    {
     "data": {
      "image/png": "[encoded data removed]",
      "text/plain": [
       "<Figure size 1440x720 with 2 Axes>"
      ]
     },
     "metadata": {
      "needs_background": "light"
     },
     "output_type": "display_data"
    }
   ],
   "source": [
    "# out-degree analysis\n",
    "\n",
    "# get all reactants and products- not needed for degree\n",
    "all_reactants_dict, all_products_dict=all_prods_reacts_dict(fba_ecoli_lofo, ecoli_model, rev=False)\n",
    "all_reactants_ess_dict, all_products_ess_dict, all_reactants_noness_dict, all_products_noness_dict=split_react_prod_dict_by_ess(fba_ecoli_lofo)\n",
    "\n",
    "# get histogram data\n",
    "data_df, pushin_p=get_sharing_data(fba_ecoli_lofo, ecoli_dg, all_reactants_dict, all_products_dict, mets_to_ignore, func=np.min, pp_func=np.mean, ignore_mets=False, rev1=True, rev2=True, return_pushin_p=True, ignore_zero_push=False)\n",
    "data_df, data_df_sources, data_df_sinks, data_df_ess, data_df_noness=sharing_data_processing(data_df, base=10)\n",
    "data_df[\"ess_str\"]=[str(i) for i in list(data_df[\"ess\"])]\n",
    "data_df_f, data_df_f_ess, data_df_f_noness=sharing_data_processing_2(data_df, data_df_sources, data_df_sinks, rm_sources=True, rm_sinks=True)\n",
    "\n",
    "# compute histogram for log_k_out\n",
    "manual_bins=create_bins(lb, ub, s, mb=0) # typically use data_df_f with 11 bins, data_df also works well\n",
    "data_df_hist, hist, bin_edges, bin_edge_pairs=assign_bins(data_df, 'log_k_out', 11, manual_bins=manual_bins, remove_outliers=False, q=0.90, z_filter=False, z_t=2, z_col='z_p_push', return_hist=True) # bins='auto'\n",
    "data_df_ess_frac=compute_fraction_essential_hist(data_df_hist, hist, bin_edges, bin_edge_pairs, compute_ratio=False)\n",
    "\n",
    "# linear regression; x should be bin centers which were derived from the ground truth values and y should be frac_ess\n",
    "r_sq=sk_lr(data_df_ess_frac, 'bin_centers', 'frac_ess')\n",
    "slope, intercept, r_value, p_value, std_err=sp_lr(data_df_ess_frac, 'bin_centers', 'frac_ess')\n",
    "\n",
    "# fit line\n",
    "x=data_df_ess_frac['bin_centers']\n",
    "y=data_df_ess_frac['frac_ess']\n",
    "a, b = best_fit(x, y)\n",
    "yfit = [a + b * xi for xi in x]\n",
    "\n",
    "# plot\n",
    "# plt.scatter(x, y, label='Observed')  \n",
    "# plt.plot(x, yfit, color='red', linestyle='--')\n",
    "# plt.legend()\n",
    "# plt.show()\n",
    "\n",
    "pearson_results=pearsonr(x,y)\n",
    "corr=pearson_results[0]\n",
    "pval=pearson_results[1]\n",
    "\n",
    "# other outputs\n",
    "print(\"Number of remaining samples:\", len(data_df_hist))\n",
    "\n",
    "# bar plot\n",
    "fig, ax1 = plt.subplots(figsize=(20, 10))\n",
    "total=sum(data_df_ess_frac[\"num_ess\"])+sum(data_df_ess_frac[\"num_noness\"])\n",
    "ax1.bar(data_df_ess_frac[\"bin_centers\"], data_df_ess_frac[\"num_ess\"], color='black', align='center', width=0.1)\n",
    "ax1.bar(data_df_ess_frac[\"bin_centers\"], data_df_ess_frac[\"num_noness\"],bottom=data_df_ess_frac[\"num_ess\"], color='darkgrey', width=0.1, align='center')\n",
    "ax1.set_xlabel('Log Out-Degree', fontsize=15)\n",
    "ax1.set_ylabel('Number of Reactions', color='black', fontsize=15)\n",
    "ax1.set_title('Reaction Esssentiality v. Out-Degree for E. Coli', fontsize=20)\n",
    "\n",
    "# scatter plot\n",
    "ax2 = ax1.twinx()\n",
    "ax2.scatter(data_df_ess_frac[\"bin_centers\"], data_df_ess_frac[\"frac_ess\"], color='black')\n",
    "ax2.plot(x, yfit, label='Predicted', color='black', linestyle='--')  \n",
    "ax2.text(x=0.75, y=0.34, s=f\"Pearson's Correlation r- and p-value: {round(corr, 4)}, {round(pval, 4)}\", fontdict=font)\n",
    "ax2.text(x=0.75, y=0.33, s=f\"Linear Regression Coeff. of Determination: {round(r_sq, 4)}\", fontdict=font)\n",
    "ax2.set_ylabel('Percent Essential reactions', color='black', fontsize=15)\n",
    "plt.legend()\n",
    "plt.savefig(\"Figures/Reaction_Essentiality_v_Out_Degree_Histogram.png\", bbox='tight', transparent=True, dpi=300)"
   ]
  },
  {
   "cell_type": "code",
   "execution_count": 180,
   "id": "cf03d5a5",
   "metadata": {},
   "outputs": [
    {
     "name": "stdout",
     "output_type": "stream",
     "text": [
      "coefficient of determination: 0.7337761241391343\n",
      "Slope:  -7.904953069823453\n",
      "Intercept:  2.6418948564751914\n",
      "r-value:  -0.8566073336944612\n",
      "p-value:  0.0007588419617393272\n",
      "standard error:  1.5871565070177467\n",
      "(-0.8566073336944614, 0.000758841961739322)\n",
      "Number of remaining samples: 1021\n"
     ]
    },
    {
     "name": "stderr",
     "output_type": "stream",
     "text": [
      "C:\\Users\\chati\\AppData\\Local\\Temp/ipykernel_11628/4239126510.py:78: MatplotlibDeprecationWarning: savefig() got unexpected keyword argument \"bbox\" which is no longer supported as of 3.3 and will become an error two minor releases later\n",
      "  plt.savefig(\"Figures/Reaction_Essentiality_v_Product_Push_Histogram.png\", bbox='tight', transparent=True, dpi=300)\n"
     ]
    },
    {
     "data": {
      "image/png": "[encoded data removed]",
      "text/plain": [
       "<Figure size 1440x720 with 2 Axes>"
      ]
     },
     "metadata": {
      "needs_background": "light"
     },
     "output_type": "display_data"
    }
   ],
   "source": [
    "# product push analysis\n",
    "\n",
    "# get all reactants and products \n",
    "all_reactants_dict, all_products_dict=all_prods_reacts_dict(fba_ecoli_lofo, ecoli_model, rev=True)\n",
    "all_reactants_ess_dict, all_products_ess_dict, all_reactants_noness_dict, all_products_noness_dict=split_react_prod_dict_by_ess(fba_ecoli_lofo)\n",
    "\n",
    "# get histogram data \n",
    "data_df, pushin_p=get_sharing_data(fba_ecoli_lofo, ecoli_dg, all_reactants_dict, all_products_dict, mets_to_ignore, func=np.min, pp_func=np.mean, ignore_mets=False, rev1=True, rev2=True, return_pushin_p=True, ignore_zero_push=False)\n",
    "data_df, data_df_sources, data_df_sinks, data_df_ess, data_df_noness=sharing_data_processing(data_df)\n",
    "data_df[\"ess_str\"]=[\"Essential\" if i==1 else \"Non-essential\" for i in list(data_df[\"ess\"])]\n",
    "data_df_f, data_df_f_ess, data_df_f_noness=sharing_data_processing_2(data_df, data_df_sources, data_df_sinks, rm_sources=True, rm_sinks=True)\n",
    "\n",
    "# compute histogram for log_p_push \n",
    "manual_bins=create_bins(lb, ub, s, mb=0)\n",
    "data_df_hist, hist, bin_edges, bin_edge_pairs=assign_bins(data_df_f, 'log_p_push', 11, manual_bins=manual_bins, remove_outliers=False, q=0.90, z_filter=True, z_t=2, z_col='z_p_push', return_hist=True) # bins='auto'\n",
    "data_df_ess_frac=compute_fraction_essential_hist(data_df_hist, hist, bin_edges, bin_edge_pairs, compute_ratio=False)\n",
    "\n",
    "# linear regression; x should be bin centers which were derived from the ground truth values and y should be frac_ess; note, it isn't going to fit well, so fit a parabola\n",
    "r_sq=sk_lr(data_df_ess_frac, 'bin_centers', 'frac_ess')\n",
    "slope, intercept, r_value, p_value, std_err=sp_lr(data_df_ess_frac, 'bin_centers', 'frac_ess')\n",
    "\n",
    "# scatter plot\n",
    "# sns.scatterplot(data_df_ess_frac['bin_centers'], data_df_ess_frac['frac_ess'])\n",
    "\n",
    "# fit complex functions\n",
    "import scipy.optimize\n",
    "def parabola(x, a, b, c):\n",
    "    return a*x**2 + b*x + c\n",
    "\n",
    "# fit parabola\n",
    "x=data_df_ess_frac['bin_centers']\n",
    "y=data_df_ess_frac['frac_ess']\n",
    "a, b = best_fit(x, y)\n",
    "yfit = [a + b * xi for xi in x]\n",
    "\n",
    "# fit_params, pcov = scipy.optimize.curve_fit(parabola, x, y)\n",
    "# x_pred=np.arange(0.01, max(x)+0.1, 0.01)\n",
    "# x_pred=np.arange(min(x), max(x), 0.01)\n",
    "# y_pred=parabola(x_pred, fit_params[0], fit_params[1], fit_params[2])\n",
    "\n",
    "# plot\n",
    "# plt.scatter(x, y, label='Observed')  \n",
    "print(pearsonr(x,y))\n",
    "pearson_results=pearsonr(x,y)\n",
    "corr=pearson_results[0]\n",
    "pval=pearson_results[1]\n",
    "# plt.plot(x_pred, y_pred, label='Predicted', color='red')\n",
    "# plt.plot(x, yfit, color='red', linestyle='--')\n",
    "# plt.legend()\n",
    "# plt.show()\n",
    "\n",
    "# other outputs\n",
    "print(\"Number of remaining samples:\", len(data_df_hist))\n",
    "\n",
    "# bar plot\n",
    "fig, ax1 = plt.subplots(figsize=(20, 10))\n",
    "total=sum(data_df_ess_frac[\"num_ess\"])+sum(data_df_ess_frac[\"num_noness\"])\n",
    "ax1.bar(data_df_ess_frac[\"bin_centers\"], data_df_ess_frac[\"num_ess\"], color='black', align='center', width=0.1)\n",
    "ax1.bar(data_df_ess_frac[\"bin_centers\"], data_df_ess_frac[\"num_noness\"],bottom=data_df_ess_frac[\"num_ess\"], color='darkgrey', width=0.1, align='center')\n",
    "ax1.set_xlabel('Log Product Push', fontsize=15)\n",
    "ax1.set_ylabel('Number of Reactions', color='black', fontsize=15)\n",
    "ax1.set_title('Reaction Esssentiality v. Product Push for E. Coli', fontsize=20)\n",
    "\n",
    "# scatter plot\n",
    "ax2 = ax1.twinx()\n",
    "ax2.scatter(data_df_ess_frac[\"bin_centers\"], data_df_ess_frac[\"frac_ess\"], color='black')\n",
    "# ax2.plot(x_pred, y_pred, label='Predicted', color='red', linestyle='--') \n",
    "font = {'family': 'serif',\n",
    "        'color':  'black',\n",
    "        'weight': 'normal',\n",
    "        'size': 14}\n",
    "ax2.plot(x, yfit, label='Predicted', color='black', linestyle='--')  \n",
    "ax2.set_ylabel('Percent Essential reactions', color='black', fontsize=15)\n",
    "plt.legend()\n",
    "# plt.text(2, 200, f\"Pearson's Correlation r- and p-value: {corr}, {pval}\", fontdict=font)\n",
    "ax2.text(x=1.4, y=0.3, s=f\"Pearson's Correlation r- and p-value: {round(corr, 4)}, {round(pval, 4)}\", fontdict=font)\n",
    "ax2.text(x=1.4, y=0.29, s=f\"Linear Regression Coeff. of Determination: {round(r_sq, 4)}\", fontdict=font)\n",
    "plt.savefig(\"Figures/Reaction_Essentiality_v_Product_Push_Histogram.png\", bbox='tight', transparent=True, dpi=300)\n",
    "# plt.show()\n",
    "\n",
    "# p push says that essential reactions should be moving more product to other reactions, but does not account for product sharing. We are just saying that these nodes are highly correlated with fraction \n",
    "# of essentiality and how much product it pushes. The amount that product is shared across reactions could mean something different. "
   ]
  },
  {
   "cell_type": "code",
   "execution_count": 181,
   "id": "8c2a9a2b",
   "metadata": {},
   "outputs": [
    {
     "name": "stderr",
     "output_type": "stream",
     "text": [
      "C:\\Users\\chati\\AppData\\Local\\Temp/ipykernel_11628/2745948600.py:49: MatplotlibDeprecationWarning: savefig() got unexpected keyword argument \"bbox\" which is no longer supported as of 3.3 and will become an error two minor releases later\n",
      "  plt.savefig(\"Figures/Reaction_Essentiality_v_Product_Push_and_Sharing_Histogram.png\", bbox='tight', transparent=True, dpi=300)\n"
     ]
    },
    {
     "data": {
      "image/png": "[encoded data removed]",
      "text/plain": [
       "<Figure size 1440x720 with 2 Axes>"
      ]
     },
     "metadata": {
      "needs_background": "light"
     },
     "output_type": "display_data"
    }
   ],
   "source": [
    "# plot number of essential and average mppush fro both ess and noness\n",
    "mean_col=\"log_p\"\n",
    "func=np.mean\n",
    "ess_mean=[]\n",
    "noness_mean=[]\n",
    "for hl in list(data_df_ess_frac[\"hist_label\"]):\n",
    "    data_df_hist_hl=data_df_hist[data_df_hist[\"hist_label\"]==hl]\n",
    "    data_df_hist_hl_ess=data_df_hist_hl[data_df_hist_hl[\"ess\"]==1]\n",
    "    data_df_hist_hl_noness=data_df_hist_hl[data_df_hist_hl[\"ess\"]==0]\n",
    "    \n",
    "    # get means\n",
    "    ess_mean.append(func(data_df_hist_hl_ess[mean_col]))\n",
    "    noness_mean.append(func(data_df_hist_hl_noness[mean_col]))\n",
    "    \n",
    "data_df_ess_frac[f\"{mean_col}_avg_ess\"]=ess_mean\n",
    "data_df_ess_frac[f\"{mean_col}_avg_noness\"]=noness_mean\n",
    "\n",
    "# bar plot\n",
    "fig, ax1 = plt.subplots(figsize=(20, 10))\n",
    "total=sum(data_df_ess_frac[\"num_ess\"])+sum(data_df_ess_frac[\"num_noness\"])\n",
    "ax1.bar(data_df_ess_frac[\"bin_centers\"], data_df_ess_frac[\"num_ess\"], color='black', align='center', width=0.1)\n",
    "ax1.bar(data_df_ess_frac[\"bin_centers\"], data_df_ess_frac[\"num_noness\"],bottom=data_df_ess_frac[\"num_ess\"], color='darkgrey', width=0.1, align='center')\n",
    "ax1.set_xlabel('Log Product Push', fontsize=15)\n",
    "ax1.set_ylabel('Number of Reactions', color='black', fontsize=15)\n",
    "ax1.set_title('Reaction Esssentiality v. Product Sharing for E. Coli', fontsize=20)\n",
    "\n",
    "ax2 = ax1.twinx()\n",
    "\n",
    "# non essential\n",
    "x=data_df_ess_frac[\"bin_centers\"]\n",
    "y=data_df_ess_frac[f'{mean_col}_avg_noness']\n",
    "ax2.scatter(x, y, color='blue')\n",
    "fit_params, pcov = scipy.optimize.curve_fit(parabola, x, y)\n",
    "x_pred=np.arange(min(x), max(x), 0.01)\n",
    "y_pred=parabola(x_pred, fit_params[0], fit_params[1], fit_params[2])\n",
    "plt.plot(x_pred, y_pred, label='Non-essential Product Sharing', color='blue', linestyle=\"--\")\n",
    "\n",
    "# essential\n",
    "y=data_df_ess_frac[f'{mean_col}_avg_ess']\n",
    "ax2.scatter(x, y, color='red')\n",
    "fit_params, pcov = scipy.optimize.curve_fit(parabola, x, y)\n",
    "x_pred=np.arange(min(x), max(x), 0.01)\n",
    "y_pred=parabola(x_pred, fit_params[0], fit_params[1], fit_params[2])\n",
    "plt.plot(x_pred, y_pred, label='Essential Product Sharing', color='red', linestyle=\"--\")\n",
    "\n",
    "# label\n",
    "ax2.set_ylabel('Log Average Product Sharing', color='black', fontsize=15)\n",
    "plt.legend()\n",
    "plt.savefig(\"Figures/Reaction_Essentiality_v_Product_Push_and_Sharing_Histogram.png\", bbox='tight', transparent=True, dpi=300)\n",
    "\n",
    "# plt.scatter(data_df_ess_frac['bin_centers'], data_df_ess_frac[f'{mean_col}_avg_ess'], color='red')\n",
    "# plt.scatter(data_df_ess_frac['bin_centers'], data_df_ess_frac[f'{mean_col}_avg_noness'], color='blue')"
   ]
  },
  {
   "cell_type": "code",
   "execution_count": 184,
   "id": "142257b6",
   "metadata": {},
   "outputs": [
    {
     "name": "stdout",
     "output_type": "stream",
     "text": [
      "coefficient of determination: 0.7430651728413044\n",
      "coefficient of determination: 0.3786744633698158\n"
     ]
    },
    {
     "data": {
      "image/png": "[encoded data removed]",
      "text/plain": [
       "<Figure size 432x288 with 1 Axes>"
      ]
     },
     "metadata": {
      "needs_background": "light"
     },
     "output_type": "display_data"
    }
   ],
   "source": [
    "# plot only scatterplots\n",
    "plot_histogram(data_df_hist, data_df_ess_frac, 'bin_centers', f'{mean_col}_avg_noness', subset=group_ranges(0, 11), frac_ess=True)\n",
    "plot_histogram(data_df_hist, data_df_ess_frac, 'bin_centers', f'{mean_col}_avg_ess', subset=group_ranges(0, 11), frac_ess=True)"
   ]
  },
  {
   "cell_type": "code",
   "execution_count": 185,
   "id": "ab94e181",
   "metadata": {},
   "outputs": [
    {
     "name": "stderr",
     "output_type": "stream",
     "text": [
      "C:\\Users\\chati\\AppData\\Local\\Temp/ipykernel_11628/2876584272.py:19: MatplotlibDeprecationWarning: savefig() got unexpected keyword argument \"bbox\" which is no longer supported as of 3.3 and will become an error two minor releases later\n",
      "  plt.savefig(\"Figures/Product_Sharing_Distributions.png\", bbox='tight', transparent=True, dpi=300)\n"
     ]
    },
    {
     "data": {
      "image/png": "[encoded data removed]",
      "text/plain": [
       "<Figure size 720x720 with 1 Axes>"
      ]
     },
     "metadata": {
      "needs_background": "light"
     },
     "output_type": "display_data"
    }
   ],
   "source": [
    "# plot distributional data\n",
    "fig, ax1 = plt.subplots(figsize=(10, 10))\n",
    "sns.violinplot(data=data_df_hist, x=\"ess_str\", y=\"log_p\", ax=ax1)\n",
    "plt.xticks([0,1], ['Non-essential', 'Essential'], fontsize=15)\n",
    "ax1.set_xlabel('Essentiality', color='black', fontsize=15)\n",
    "ax1.set_ylabel('Log Product Sharing', color='black', fontsize=15)\n",
    "ax1.set_title('Essentiality v. Product Sharing Distributions', color='black', fontsize=20)\n",
    "\n",
    "tf=\"p\"\n",
    "df_ess_counts=pd.DataFrame.from_dict(Counter(data_df_ess[tf]), orient='index')\n",
    "df_ess_counts.columns=[\"ess\"]\n",
    "df_noness_counts=pd.DataFrame.from_dict(Counter(data_df_noness[tf]), orient='index')\n",
    "df_noness_counts.columns=[\"noness\"]\n",
    "df_counts=pd.concat([df_ess_counts, df_noness_counts], axis=1).T\n",
    "df_counts.fillna(0, inplace=True)\n",
    "stat, p, dof, expected = chi2_contingency(df_counts)\n",
    "\n",
    "ax1.text(x=-0.3, y=3.9, s=f\"Pearson's Chi-Square Stat. and p-value: {round(stat, 4)}, {round(p, 16)}\", fontdict=font)\n",
    "plt.savefig(\"Figures/Product_Sharing_Distributions.png\", bbox='tight', transparent=True, dpi=300)"
   ]
  },
  {
   "cell_type": "code",
   "execution_count": 186,
   "id": "8aa4ac44",
   "metadata": {},
   "outputs": [
    {
     "name": "stderr",
     "output_type": "stream",
     "text": [
      "C:\\Users\\chati\\AppData\\Local\\Temp/ipykernel_11628/2739144090.py:19: MatplotlibDeprecationWarning: savefig() got unexpected keyword argument \"bbox\" which is no longer supported as of 3.3 and will become an error two minor releases later\n",
      "  plt.savefig(\"Figures/Product_Push_Distributions.png\", bbox='tight', transparent=True, dpi=300)\n"
     ]
    },
    {
     "data": {
      "image/png": "[encoded data removed]",
      "text/plain": [
       "<Figure size 720x720 with 1 Axes>"
      ]
     },
     "metadata": {
      "needs_background": "light"
     },
     "output_type": "display_data"
    }
   ],
   "source": [
    "# plot distributional data\n",
    "fig, ax1 = plt.subplots(figsize=(10, 10))\n",
    "sns.violinplot(data=data_df_hist, x=\"ess_str\", y=\"log_p_push\", ax=ax1)\n",
    "plt.xticks([0,1], ['Non-essential', 'Essential'], fontsize=15)\n",
    "ax1.set_xlabel('Essentiality', color='black', fontsize=15)\n",
    "ax1.set_ylabel('Log Product Push', color='black', fontsize=15)\n",
    "ax1.set_title('Essentiality v. Product Push Distributions', color='black', fontsize=20)\n",
    "\n",
    "tf=\"p_push\"\n",
    "df_ess_counts=pd.DataFrame.from_dict(Counter(data_df_ess[tf]), orient='index')\n",
    "df_ess_counts.columns=[\"ess\"]\n",
    "df_noness_counts=pd.DataFrame.from_dict(Counter(data_df_noness[tf]), orient='index')\n",
    "df_noness_counts.columns=[\"noness\"]\n",
    "df_counts=pd.concat([df_ess_counts, df_noness_counts], axis=1).T\n",
    "df_counts.fillna(0, inplace=True)\n",
    "stat, p, dof, expected = chi2_contingency(df_counts)\n",
    "\n",
    "ax1.text(x=-0.2, y=2.68, s=f\"Pearson's Chi-Square Stat. and p-value: {round(stat, 4)}, {round(p, 7)}\", fontdict=font)\n",
    "plt.savefig(\"Figures/Product_Push_Distributions.png\", bbox='tight', transparent=True, dpi=300)"
   ]
  },
  {
   "cell_type": "code",
   "execution_count": null,
   "id": "da5368d9",
   "metadata": {},
   "outputs": [],
   "source": []
  }
 ],
 "metadata": {
  "kernelspec": {
   "display_name": "Python 3 (ipykernel)",
   "language": "python",
   "name": "python3"
  },
  "language_info": {
   "codemirror_mode": {
    "name": "ipython",
    "version": 3
   },
   "file_extension": ".py",
   "mimetype": "text/x-python",
   "name": "python",
   "nbconvert_exporter": "python",
   "pygments_lexer": "ipython3",
   "version": "3.9.7"
  }
 },
 "nbformat": 4,
 "nbformat_minor": 5
}
